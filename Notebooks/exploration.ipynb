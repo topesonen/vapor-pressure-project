{
 "cells": [
  {
   "cell_type": "code",
   "execution_count": 1,
   "metadata": {},
   "outputs": [
    {
     "name": "stdout",
     "output_type": "stream",
     "text": [
      "train.csv\n",
      "sample_submission.csv\n",
      "test.csv\n"
     ]
    }
   ],
   "source": [
    "import os\n",
    "\n",
    "# Specify the path to the Data folder\n",
    "data_folder = r\"/home/topias/DS/Intro-to-ML/Project/Data\"\n",
    "\n",
    "# Get the list of files in the Data folder\n",
    "file_list = os.listdir(data_folder)\n",
    "\n",
    "# Print the file names\n",
    "for file_name in file_list:\n",
    "    print(file_name)\n"
   ]
  }
 ],
 "metadata": {
  "kernelspec": {
   "display_name": "ml-env",
   "language": "python",
   "name": "python3"
  },
  "language_info": {
   "codemirror_mode": {
    "name": "ipython",
    "version": 3
   },
   "file_extension": ".py",
   "mimetype": "text/x-python",
   "name": "python",
   "nbconvert_exporter": "python",
   "pygments_lexer": "ipython3",
   "version": "3.10.13"
  }
 },
 "nbformat": 4,
 "nbformat_minor": 2
}
